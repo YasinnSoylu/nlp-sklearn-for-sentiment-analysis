{
  "nbformat": 4,
  "nbformat_minor": 0,
  "metadata": {
    "colab": {
      "name": "nlp-sklearn.ipynb",
      "provenance": [],
      "authorship_tag": "ABX9TyPCpU/PcTj+6Oz6hnFjBffC",
      "include_colab_link": true
    },
    "kernelspec": {
      "name": "python3",
      "display_name": "Python 3"
    },
    "language_info": {
      "name": "python"
    }
  },
  "cells": [
    {
      "cell_type": "markdown",
      "metadata": {
        "id": "view-in-github",
        "colab_type": "text"
      },
      "source": [
        "<a href=\"https://colab.research.google.com/github/yasinsoylu1997/nlp-skl/blob/main/nlp_sklearn.ipynb\" target=\"_parent\"><img src=\"https://colab.research.google.com/assets/colab-badge.svg\" alt=\"Open In Colab\"/></a>"
      ]
    },
    {
      "cell_type": "code",
      "metadata": {
        "id": "lyCZcjVwjSYD"
      },
      "source": [
        "import numpy as np\n",
        "import pandas as pd\n",
        "import matplotlib.pyplot as plt\n",
        "import tensorflow as tf"
      ],
      "execution_count": 2,
      "outputs": []
    },
    {
      "cell_type": "code",
      "metadata": {
        "id": "EQLmFrmHjhKc"
      },
      "source": [
        "products= pd.read_csv('hepsiburada.csv')"
      ],
      "execution_count": 3,
      "outputs": []
    },
    {
      "cell_type": "code",
      "metadata": {
        "colab": {
          "base_uri": "https://localhost:8080/",
          "height": 424
        },
        "id": "PMBf9aDojjSS",
        "outputId": "47a55011-42eb-4f56-83e5-dcd9944e4ecc"
      },
      "source": [
        "products"
      ],
      "execution_count": 4,
      "outputs": [
        {
          "output_type": "execute_result",
          "data": {
            "text/html": [
              "<div>\n",
              "<style scoped>\n",
              "    .dataframe tbody tr th:only-of-type {\n",
              "        vertical-align: middle;\n",
              "    }\n",
              "\n",
              "    .dataframe tbody tr th {\n",
              "        vertical-align: top;\n",
              "    }\n",
              "\n",
              "    .dataframe thead th {\n",
              "        text-align: right;\n",
              "    }\n",
              "</style>\n",
              "<table border=\"1\" class=\"dataframe\">\n",
              "  <thead>\n",
              "    <tr style=\"text-align: right;\">\n",
              "      <th></th>\n",
              "      <th>yildizSayisi</th>\n",
              "      <th>yorum</th>\n",
              "      <th>yorumLike</th>\n",
              "      <th>yorumDislike</th>\n",
              "    </tr>\n",
              "  </thead>\n",
              "  <tbody>\n",
              "    <tr>\n",
              "      <th>0</th>\n",
              "      <td>5</td>\n",
              "      <td>I bought this mouse for my home computer and i...</td>\n",
              "      <td>14</td>\n",
              "      <td>4</td>\n",
              "    </tr>\n",
              "    <tr>\n",
              "      <th>1</th>\n",
              "      <td>5</td>\n",
              "      <td>Ürünü yaklaşık 3 aydır kullanıyorum. Hem ergon...</td>\n",
              "      <td>6</td>\n",
              "      <td>0</td>\n",
              "    </tr>\n",
              "    <tr>\n",
              "      <th>2</th>\n",
              "      <td>5</td>\n",
              "      <td>Teknolojiden çok anlayan biri değilim, sadece ...</td>\n",
              "      <td>1</td>\n",
              "      <td>0</td>\n",
              "    </tr>\n",
              "    <tr>\n",
              "      <th>3</th>\n",
              "      <td>5</td>\n",
              "      <td>Perfect</td>\n",
              "      <td>3</td>\n",
              "      <td>0</td>\n",
              "    </tr>\n",
              "    <tr>\n",
              "      <th>4</th>\n",
              "      <td>5</td>\n",
              "      <td>Ürünün yapısı oldukça ergonomik, işte kullanma...</td>\n",
              "      <td>2</td>\n",
              "      <td>0</td>\n",
              "    </tr>\n",
              "    <tr>\n",
              "      <th>...</th>\n",
              "      <td>...</td>\n",
              "      <td>...</td>\n",
              "      <td>...</td>\n",
              "      <td>...</td>\n",
              "    </tr>\n",
              "    <tr>\n",
              "      <th>479237</th>\n",
              "      <td>1</td>\n",
              "      <td>Bana hiç iyi gelmedi dökülmeyi durdurmadığı gi...</td>\n",
              "      <td>4</td>\n",
              "      <td>4</td>\n",
              "    </tr>\n",
              "    <tr>\n",
              "      <th>479238</th>\n",
              "      <td>5</td>\n",
              "      <td>Ürünler bir gün içinde elimdeydi.teşekkürler..</td>\n",
              "      <td>3</td>\n",
              "      <td>6</td>\n",
              "    </tr>\n",
              "    <tr>\n",
              "      <th>479239</th>\n",
              "      <td>1</td>\n",
              "      <td>Arkadaşlar ben aldım 1 ay kullandım saç dökülm...</td>\n",
              "      <td>10</td>\n",
              "      <td>27</td>\n",
              "    </tr>\n",
              "    <tr>\n",
              "      <th>479240</th>\n",
              "      <td>3</td>\n",
              "      <td>Saç dökülmesi konusunda herhangi bir şampuanda...</td>\n",
              "      <td>10</td>\n",
              "      <td>3</td>\n",
              "    </tr>\n",
              "    <tr>\n",
              "      <th>479241</th>\n",
              "      <td>1</td>\n",
              "      <td>saç dökülmesi için aldım ama hiç faydası olmad...</td>\n",
              "      <td>7</td>\n",
              "      <td>29</td>\n",
              "    </tr>\n",
              "  </tbody>\n",
              "</table>\n",
              "<p>479242 rows × 4 columns</p>\n",
              "</div>"
            ],
            "text/plain": [
              "        yildizSayisi  ... yorumDislike\n",
              "0                  5  ...            4\n",
              "1                  5  ...            0\n",
              "2                  5  ...            0\n",
              "3                  5  ...            0\n",
              "4                  5  ...            0\n",
              "...              ...  ...          ...\n",
              "479237             1  ...            4\n",
              "479238             5  ...            6\n",
              "479239             1  ...           27\n",
              "479240             3  ...            3\n",
              "479241             1  ...           29\n",
              "\n",
              "[479242 rows x 4 columns]"
            ]
          },
          "metadata": {},
          "execution_count": 4
        }
      ]
    },
    {
      "cell_type": "code",
      "metadata": {
        "colab": {
          "base_uri": "https://localhost:8080/"
        },
        "id": "qXlZ5lzKju9K",
        "outputId": "720d5ed2-6458-4af9-c36b-cb958d387366"
      },
      "source": [
        "len(products) - len(products.dropna())\n"
      ],
      "execution_count": 5,
      "outputs": [
        {
          "output_type": "execute_result",
          "data": {
            "text/plain": [
              "0"
            ]
          },
          "metadata": {},
          "execution_count": 5
        }
      ]
    },
    {
      "cell_type": "code",
      "metadata": {
        "colab": {
          "base_uri": "https://localhost:8080/"
        },
        "id": "KN5NwtX3j0Jb",
        "outputId": "1c9f2f8d-bb14-476d-a7be-19933b421d86"
      },
      "source": [
        "len(products)\n"
      ],
      "execution_count": 6,
      "outputs": [
        {
          "output_type": "execute_result",
          "data": {
            "text/plain": [
              "479242"
            ]
          },
          "metadata": {},
          "execution_count": 6
        }
      ]
    },
    {
      "cell_type": "code",
      "metadata": {
        "id": "0jL-iZiDj2cU"
      },
      "source": [
        "products = products.dropna()\n"
      ],
      "execution_count": 7,
      "outputs": []
    },
    {
      "cell_type": "code",
      "metadata": {
        "id": "Jd2RPxmcj4CL"
      },
      "source": [
        "for i in range(0,len(products)-1):\n",
        "    if type(products.iloc[i]['yorum']) != str:\n",
        "        products.iloc[i]['yorum'] = str(products.iloc[i]['yorum'])"
      ],
      "execution_count": 8,
      "outputs": []
    },
    {
      "cell_type": "code",
      "metadata": {
        "id": "pcBkf-8yj59q"
      },
      "source": [
        "products = products[products['yildizSayisi'] != 3]\n"
      ],
      "execution_count": 9,
      "outputs": []
    },
    {
      "cell_type": "code",
      "metadata": {
        "colab": {
          "base_uri": "https://localhost:8080/",
          "height": 206
        },
        "id": "wTd8zb1_kL3D",
        "outputId": "c265fbcc-dc50-4a55-bb5e-177d7b23ef6b"
      },
      "source": [
        "def sentiment(n):\n",
        "    return 1 if n >= 4 else 0\n",
        "products['sentiment'] = products['yildizSayisi'].apply(sentiment)\n",
        "products.head()"
      ],
      "execution_count": 10,
      "outputs": [
        {
          "output_type": "execute_result",
          "data": {
            "text/html": [
              "<div>\n",
              "<style scoped>\n",
              "    .dataframe tbody tr th:only-of-type {\n",
              "        vertical-align: middle;\n",
              "    }\n",
              "\n",
              "    .dataframe tbody tr th {\n",
              "        vertical-align: top;\n",
              "    }\n",
              "\n",
              "    .dataframe thead th {\n",
              "        text-align: right;\n",
              "    }\n",
              "</style>\n",
              "<table border=\"1\" class=\"dataframe\">\n",
              "  <thead>\n",
              "    <tr style=\"text-align: right;\">\n",
              "      <th></th>\n",
              "      <th>yildizSayisi</th>\n",
              "      <th>yorum</th>\n",
              "      <th>yorumLike</th>\n",
              "      <th>yorumDislike</th>\n",
              "      <th>sentiment</th>\n",
              "    </tr>\n",
              "  </thead>\n",
              "  <tbody>\n",
              "    <tr>\n",
              "      <th>0</th>\n",
              "      <td>5</td>\n",
              "      <td>I bought this mouse for my home computer and i...</td>\n",
              "      <td>14</td>\n",
              "      <td>4</td>\n",
              "      <td>1</td>\n",
              "    </tr>\n",
              "    <tr>\n",
              "      <th>1</th>\n",
              "      <td>5</td>\n",
              "      <td>Ürünü yaklaşık 3 aydır kullanıyorum. Hem ergon...</td>\n",
              "      <td>6</td>\n",
              "      <td>0</td>\n",
              "      <td>1</td>\n",
              "    </tr>\n",
              "    <tr>\n",
              "      <th>2</th>\n",
              "      <td>5</td>\n",
              "      <td>Teknolojiden çok anlayan biri değilim, sadece ...</td>\n",
              "      <td>1</td>\n",
              "      <td>0</td>\n",
              "      <td>1</td>\n",
              "    </tr>\n",
              "    <tr>\n",
              "      <th>3</th>\n",
              "      <td>5</td>\n",
              "      <td>Perfect</td>\n",
              "      <td>3</td>\n",
              "      <td>0</td>\n",
              "      <td>1</td>\n",
              "    </tr>\n",
              "    <tr>\n",
              "      <th>4</th>\n",
              "      <td>5</td>\n",
              "      <td>Ürünün yapısı oldukça ergonomik, işte kullanma...</td>\n",
              "      <td>2</td>\n",
              "      <td>0</td>\n",
              "      <td>1</td>\n",
              "    </tr>\n",
              "  </tbody>\n",
              "</table>\n",
              "</div>"
            ],
            "text/plain": [
              "   yildizSayisi  ... sentiment\n",
              "0             5  ...         1\n",
              "1             5  ...         1\n",
              "2             5  ...         1\n",
              "3             5  ...         1\n",
              "4             5  ...         1\n",
              "\n",
              "[5 rows x 5 columns]"
            ]
          },
          "metadata": {},
          "execution_count": 10
        }
      ]
    },
    {
      "cell_type": "code",
      "metadata": {
        "id": "3J7iqdJ6kQRy"
      },
      "source": [
        "X = products['yorum']\n",
        "y = products['sentiment']"
      ],
      "execution_count": 11,
      "outputs": []
    },
    {
      "cell_type": "code",
      "metadata": {
        "id": "Gj0vJUYNkfYU"
      },
      "source": [
        "from sklearn.model_selection import train_test_split\n",
        "X_train, X_test, y_train, y_test = train_test_split(X, y, random_state=0)"
      ],
      "execution_count": 12,
      "outputs": []
    },
    {
      "cell_type": "code",
      "metadata": {
        "id": "wHtrrDmIkwKy"
      },
      "source": [
        "from sklearn.feature_extraction.text import CountVectorizer\n",
        "cv = CountVectorizer()\n",
        "ctmTr = cv.fit_transform(X_train)\n",
        "X_test_dtm = cv.transform(X_test)"
      ],
      "execution_count": 13,
      "outputs": []
    },
    {
      "cell_type": "code",
      "metadata": {
        "colab": {
          "base_uri": "https://localhost:8080/"
        },
        "id": "pq3wXjWokyhs",
        "outputId": "29cf0abf-fe33-4160-94ae-ffdbf8266149"
      },
      "source": [
        "from sklearn.linear_model import LogisticRegression\n",
        "from sklearn.metrics import accuracy_score\n",
        "model = LogisticRegression()\n",
        "model.fit(ctmTr, y_train)"
      ],
      "execution_count": 14,
      "outputs": [
        {
          "output_type": "stream",
          "name": "stderr",
          "text": [
            "/usr/local/lib/python3.7/dist-packages/sklearn/linear_model/_logistic.py:818: ConvergenceWarning: lbfgs failed to converge (status=1):\n",
            "STOP: TOTAL NO. of ITERATIONS REACHED LIMIT.\n",
            "\n",
            "Increase the number of iterations (max_iter) or scale the data as shown in:\n",
            "    https://scikit-learn.org/stable/modules/preprocessing.html\n",
            "Please also refer to the documentation for alternative solver options:\n",
            "    https://scikit-learn.org/stable/modules/linear_model.html#logistic-regression\n",
            "  extra_warning_msg=_LOGISTIC_SOLVER_CONVERGENCE_MSG,\n"
          ]
        },
        {
          "output_type": "execute_result",
          "data": {
            "text/plain": [
              "LogisticRegression()"
            ]
          },
          "metadata": {},
          "execution_count": 14
        }
      ]
    },
    {
      "cell_type": "code",
      "metadata": {
        "colab": {
          "base_uri": "https://localhost:8080/"
        },
        "id": "BbjNQtpVk1zh",
        "outputId": "349628f4-8f2a-43f2-a9cc-366a81c5ac01"
      },
      "source": [
        "y_pred_class = model.predict(X_test_dtm)\n",
        "y_pred_class"
      ],
      "execution_count": 15,
      "outputs": [
        {
          "output_type": "execute_result",
          "data": {
            "text/plain": [
              "array([1, 1, 1, ..., 1, 1, 1])"
            ]
          },
          "metadata": {},
          "execution_count": 15
        }
      ]
    },
    {
      "cell_type": "code",
      "metadata": {
        "colab": {
          "base_uri": "https://localhost:8080/"
        },
        "id": "i3NJ1J9bk7f6",
        "outputId": "52704d3e-690c-45e9-f98d-344c35cf639a"
      },
      "source": [
        "accuracy_score(y_test, y_pred_class)\n"
      ],
      "execution_count": 16,
      "outputs": [
        {
          "output_type": "execute_result",
          "data": {
            "text/plain": [
              "0.9739729722674232"
            ]
          },
          "metadata": {},
          "execution_count": 16
        }
      ]
    },
    {
      "cell_type": "code",
      "metadata": {
        "colab": {
          "base_uri": "https://localhost:8080/"
        },
        "id": "by6aNGkxmI3b",
        "outputId": "32439cb1-d4da-4c8d-991d-55f9f1849c17"
      },
      "source": [
        "from sklearn import metrics\n",
        "print(metrics.classification_report(y_test, y_pred_class))"
      ],
      "execution_count": 17,
      "outputs": [
        {
          "output_type": "stream",
          "name": "stdout",
          "text": [
            "              precision    recall  f1-score   support\n",
            "\n",
            "           0       0.85      0.64      0.73      6363\n",
            "           1       0.98      0.99      0.99    108556\n",
            "\n",
            "    accuracy                           0.97    114919\n",
            "   macro avg       0.92      0.82      0.86    114919\n",
            "weighted avg       0.97      0.97      0.97    114919\n",
            "\n"
          ]
        }
      ]
    },
    {
      "cell_type": "code",
      "metadata": {
        "colab": {
          "base_uri": "https://localhost:8080/"
        },
        "id": "lhsTI2adk_hi",
        "outputId": "2f7d11fe-f815-4011-9fa5-9399d731597b"
      },
      "source": [
        "from sklearn.naive_bayes import MultinomialNB\n",
        "model2=MultinomialNB()\n",
        "model2.fit(ctmTr, y_train)"
      ],
      "execution_count": 18,
      "outputs": [
        {
          "output_type": "execute_result",
          "data": {
            "text/plain": [
              "MultinomialNB()"
            ]
          },
          "metadata": {},
          "execution_count": 18
        }
      ]
    },
    {
      "cell_type": "code",
      "metadata": {
        "colab": {
          "base_uri": "https://localhost:8080/"
        },
        "id": "4cA0t0EhlTDi",
        "outputId": "3f31c4ee-d4e0-43c5-eabc-0ae6be2863f7"
      },
      "source": [
        "y_pred2_class = model2.predict(X_test_dtm)\n",
        "y_pred2_class"
      ],
      "execution_count": 19,
      "outputs": [
        {
          "output_type": "execute_result",
          "data": {
            "text/plain": [
              "array([1, 1, 1, ..., 1, 1, 1])"
            ]
          },
          "metadata": {},
          "execution_count": 19
        }
      ]
    },
    {
      "cell_type": "code",
      "metadata": {
        "colab": {
          "base_uri": "https://localhost:8080/"
        },
        "id": "sAsEYwBMle76",
        "outputId": "9f6cf797-4e57-4379-c80f-328dbfabae12"
      },
      "source": [
        "accuracy_score(y_test, y_pred2_class)\n"
      ],
      "execution_count": 20,
      "outputs": [
        {
          "output_type": "execute_result",
          "data": {
            "text/plain": [
              "0.9650536464814348"
            ]
          },
          "metadata": {},
          "execution_count": 20
        }
      ]
    },
    {
      "cell_type": "code",
      "metadata": {
        "colab": {
          "base_uri": "https://localhost:8080/"
        },
        "id": "4ai7QwG_mFvv",
        "outputId": "4b2794ae-81e3-4ffa-b7ce-e0a2f4e97493"
      },
      "source": [
        "from sklearn import metrics\n",
        "print(metrics.classification_report(y_test, y_pred2_class))"
      ],
      "execution_count": 21,
      "outputs": [
        {
          "output_type": "stream",
          "name": "stdout",
          "text": [
            "              precision    recall  f1-score   support\n",
            "\n",
            "           0       0.73      0.59      0.65      6363\n",
            "           1       0.98      0.99      0.98    108556\n",
            "\n",
            "    accuracy                           0.97    114919\n",
            "   macro avg       0.85      0.79      0.82    114919\n",
            "weighted avg       0.96      0.97      0.96    114919\n",
            "\n"
          ]
        }
      ]
    },
    {
      "cell_type": "code",
      "metadata": {
        "colab": {
          "base_uri": "https://localhost:8080/"
        },
        "id": "P9uk0zP3lhJr",
        "outputId": "5bb4bda9-e4a0-4248-b6c1-b413384783ac"
      },
      "source": [
        "from sklearn.linear_model import SGDClassifier\n",
        "model3=SGDClassifier()\n",
        "model3.fit(ctmTr, y_train)"
      ],
      "execution_count": 22,
      "outputs": [
        {
          "output_type": "execute_result",
          "data": {
            "text/plain": [
              "SGDClassifier()"
            ]
          },
          "metadata": {},
          "execution_count": 22
        }
      ]
    },
    {
      "cell_type": "code",
      "metadata": {
        "colab": {
          "base_uri": "https://localhost:8080/"
        },
        "id": "NKEWQvbglp8q",
        "outputId": "98275385-b62e-4931-aac6-6ef25d1fddb5"
      },
      "source": [
        "y_pred3_class = model3.predict(X_test_dtm)\n",
        "y_pred3_class"
      ],
      "execution_count": 23,
      "outputs": [
        {
          "output_type": "execute_result",
          "data": {
            "text/plain": [
              "array([1, 1, 1, ..., 1, 1, 1])"
            ]
          },
          "metadata": {},
          "execution_count": 23
        }
      ]
    },
    {
      "cell_type": "code",
      "metadata": {
        "colab": {
          "base_uri": "https://localhost:8080/"
        },
        "id": "sahDAWmIlxcC",
        "outputId": "12a967ec-f9c6-4b20-bf57-64c6f1a95623"
      },
      "source": [
        "accuracy_score(y_test, y_pred3_class)\n"
      ],
      "execution_count": 24,
      "outputs": [
        {
          "output_type": "execute_result",
          "data": {
            "text/plain": [
              "0.9682820073268998"
            ]
          },
          "metadata": {},
          "execution_count": 24
        }
      ]
    },
    {
      "cell_type": "code",
      "metadata": {
        "colab": {
          "base_uri": "https://localhost:8080/"
        },
        "id": "eN0e_zaxlzoz",
        "outputId": "c6bf91b7-542d-4025-cdb9-32d5c3925b88"
      },
      "source": [
        "from sklearn import metrics\n",
        "print(metrics.classification_report(y_test, y_pred3_class))"
      ],
      "execution_count": 25,
      "outputs": [
        {
          "output_type": "stream",
          "name": "stdout",
          "text": [
            "              precision    recall  f1-score   support\n",
            "\n",
            "           0       0.88      0.49      0.63      6363\n",
            "           1       0.97      1.00      0.98    108556\n",
            "\n",
            "    accuracy                           0.97    114919\n",
            "   macro avg       0.93      0.74      0.81    114919\n",
            "weighted avg       0.97      0.97      0.96    114919\n",
            "\n"
          ]
        }
      ]
    },
    {
      "cell_type": "code",
      "metadata": {
        "colab": {
          "base_uri": "https://localhost:8080/"
        },
        "id": "lGmwkt71nlUC",
        "outputId": "cfdca9dc-02e1-41b8-d6db-8b4fb6448cce"
      },
      "source": [
        "from sklearn.linear_model import LogisticRegression\n",
        "model4=LogisticRegression()\n",
        "model4.fit(ctmTr, y_train)"
      ],
      "execution_count": 26,
      "outputs": [
        {
          "output_type": "stream",
          "name": "stderr",
          "text": [
            "/usr/local/lib/python3.7/dist-packages/sklearn/linear_model/_logistic.py:818: ConvergenceWarning: lbfgs failed to converge (status=1):\n",
            "STOP: TOTAL NO. of ITERATIONS REACHED LIMIT.\n",
            "\n",
            "Increase the number of iterations (max_iter) or scale the data as shown in:\n",
            "    https://scikit-learn.org/stable/modules/preprocessing.html\n",
            "Please also refer to the documentation for alternative solver options:\n",
            "    https://scikit-learn.org/stable/modules/linear_model.html#logistic-regression\n",
            "  extra_warning_msg=_LOGISTIC_SOLVER_CONVERGENCE_MSG,\n"
          ]
        },
        {
          "output_type": "execute_result",
          "data": {
            "text/plain": [
              "LogisticRegression()"
            ]
          },
          "metadata": {},
          "execution_count": 26
        }
      ]
    },
    {
      "cell_type": "code",
      "metadata": {
        "colab": {
          "base_uri": "https://localhost:8080/"
        },
        "id": "-hn2sdO1qsCT",
        "outputId": "6112358f-ee46-4b93-c903-f905b3df9ca1"
      },
      "source": [
        "y_pred4_class = model4.predict(X_test_dtm)\n",
        "y_pred4_class"
      ],
      "execution_count": 27,
      "outputs": [
        {
          "output_type": "execute_result",
          "data": {
            "text/plain": [
              "array([1, 1, 1, ..., 1, 1, 1])"
            ]
          },
          "metadata": {},
          "execution_count": 27
        }
      ]
    },
    {
      "cell_type": "code",
      "metadata": {
        "colab": {
          "base_uri": "https://localhost:8080/"
        },
        "id": "_tKSvPqBrUn4",
        "outputId": "ef2da781-1885-49f2-fdff-ce3e6eed5c4d"
      },
      "source": [
        "accuracy_score(y_test, y_pred4_class)\n"
      ],
      "execution_count": 28,
      "outputs": [
        {
          "output_type": "execute_result",
          "data": {
            "text/plain": [
              "0.9739729722674232"
            ]
          },
          "metadata": {},
          "execution_count": 28
        }
      ]
    },
    {
      "cell_type": "code",
      "metadata": {
        "id": "mqKfnd0WrXkZ"
      },
      "source": [
        ""
      ],
      "execution_count": null,
      "outputs": []
    }
  ]
}